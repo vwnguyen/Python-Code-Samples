{
  "nbformat": 4,
  "nbformat_minor": 0,
  "metadata": {
    "accelerator": "GPU",
    "colab": {
      "name": "A4 Convolutional Neural Networks.ipynb",
      "provenance": [],
      "collapsed_sections": [],
      "machine_shape": "hm"
    },
    "kernelspec": {
      "display_name": "Python 3",
      "language": "python",
      "name": "python3"
    },
    "language_info": {
      "codemirror_mode": {
        "name": "ipython",
        "version": 3
      },
      "file_extension": ".py",
      "mimetype": "text/x-python",
      "name": "python",
      "nbconvert_exporter": "python",
      "pygments_lexer": "ipython3",
      "version": "3.7.7"
    }
  },
  "cells": [
    {
      "cell_type": "markdown",
      "metadata": {
        "id": "KGDA0clbLhbp",
        "colab_type": "text"
      },
      "source": [
        "# **Assignment 4**\n",
        "\n",
        "Turn in the assignment via Canvas.\n",
        "\n",
        "To write legible answers you will need to be familiar with both [Markdown](https://github.com/adam-p/markdown-here/wiki/Markdown-Cheatsheet) and [Latex](https://www.latex-tutorial.com/tutorials/amsmath/)\n",
        "\n",
        "Before you turn this problem in, make sure everything runs as expected. First, restart the kernel (in the menubar, select Kernel→→Restart) and then run all cells (in the menubar, select Cell→→Run All).\n",
        "\n",
        "Make sure you fill in any place that says \"YOUR CODE HERE\" or \"YOUR ANSWER HERE\", as well as your name below:"
      ]
    },
    {
      "cell_type": "code",
      "metadata": {
        "id": "nOfazHDtoJxS",
        "colab_type": "code",
        "colab": {}
      },
      "source": [
        "NAME = \"VIET NGUYEN\"\n",
        "STUDENT_ID = \"vwnguyen\""
      ],
      "execution_count": null,
      "outputs": []
    },
    {
      "cell_type": "markdown",
      "metadata": {
        "_uuid": "bca889c929920fd204e28dd8ba3bf747abfe4866",
        "id": "HwHNu13zLhbq",
        "colab_type": "text"
      },
      "source": [
        "#  Image Classification\n",
        "## Building a Convolutional Neural Network [CNN] from Scratch\n",
        "\n",
        "In this exercise, we will build a classifier model that is able to distinguish between 10 different classes of images - airplanes, cars, birds, cats, deer, dogs, frogs, horses, ships, and trucks. We will follow these steps:\n",
        "\n",
        "1. Explore the example data\n",
        "2. Build a small convnet to solve our classification problem\n",
        "3. Evaluate training and validation accuracy"
      ]
    },
    {
      "cell_type": "markdown",
      "metadata": {
        "id": "rxedzNz3Lhbq",
        "colab_type": "text"
      },
      "source": [
        "###  Data Exploration and Preparation\n",
        "\n",
        "We'll start by downloading the CIFAR-10 dataset from Keras.\n",
        "\n",
        "This is a link to the dataset documentation:\n",
        "https://keras.io/datasets/#cifar10-small-image-classification\n",
        "\n",
        "And a link to the dataset source:\n",
        "https://www.cs.toronto.edu/~kriz/cifar.html\n",
        "\n",
        "Be sure to set your Runtime environment to include a GPU, as it will speed up the training considerably (this time that's important!)."
      ]
    },
    {
      "cell_type": "markdown",
      "metadata": {
        "id": "hT9YYUNlLhbr",
        "colab_type": "text"
      },
      "source": [
        "#### Loading data into local variables"
      ]
    },
    {
      "cell_type": "code",
      "metadata": {
        "id": "qIPX5X2VLhbs",
        "colab_type": "code",
        "colab": {
          "base_uri": "https://localhost:8080/",
          "height": 72
        },
        "outputId": "eee89ad0-dff7-4499-95e2-ec77d9a9152c"
      },
      "source": [
        "from keras.datasets import cifar10\n",
        "\n",
        "# Fetch the data:\n",
        "(X, y), (_, _) = cifar10.load_data()"
      ],
      "execution_count": null,
      "outputs": [
        {
          "output_type": "stream",
          "text": [
            "Using TensorFlow backend.\n"
          ],
          "name": "stderr"
        },
        {
          "output_type": "stream",
          "text": [
            "Downloading data from https://www.cs.toronto.edu/~kriz/cifar-10-python.tar.gz\n",
            "170500096/170498071 [==============================] - 2s 0us/step\n"
          ],
          "name": "stdout"
        }
      ]
    },
    {
      "cell_type": "markdown",
      "metadata": {
        "_uuid": "892a9fe20cb70273b84d120b69e8d8cef65c7e80",
        "id": "sI_-5NB-Lhb3",
        "colab_type": "text"
      },
      "source": [
        "####  Import needed functions and libraries"
      ]
    },
    {
      "cell_type": "code",
      "metadata": {
        "_uuid": "743b574dc8902f9376b0293208139192ed5717d1",
        "colab_type": "code",
        "id": "z19bVm7o9zeu",
        "colab": {}
      },
      "source": [
        "# Ignore the warnings - Otherwise, TensorFlow tends to innundate one with far too many warnings.\n",
        "import warnings\n",
        "warnings.filterwarnings('always')\n",
        "warnings.filterwarnings('ignore')\n",
        "\n",
        "# For matrix operations and dataframes.\n",
        "import numpy as np\n",
        "\n",
        "# Data visualizaton.\n",
        "import matplotlib.pyplot as plt\n",
        "from matplotlib import style\n",
        "import seaborn as sns\n",
        "import random as rn\n",
        " \n",
        "# Configure some defaults.\n",
        "%matplotlib inline  \n",
        "style.use('fivethirtyeight')\n",
        "sns.set(style='whitegrid',color_codes=True)\n",
        "\n",
        "# Useful deep learning functions.\n",
        "from tensorflow.keras import backend as K\n",
        "from tensorflow.keras.models import Sequential\n",
        "from tensorflow.keras.layers import Dense\n",
        "from tensorflow.keras.optimizers import Adam, SGD, Adagrad, Adadelta, RMSprop \n",
        "from tensorflow.keras.utils import to_categorical\n",
        "from tensorflow.keras.layers import Dropout, Flatten, Activation\n",
        "from tensorflow.keras.layers import Conv2D, MaxPooling2D, BatchNormalization\n",
        "\n",
        "# Powerful deep learning module.\n",
        "import tensorflow as tf\n",
        "\n",
        "# For dealing with data.\n",
        "import numpy as np  "
      ],
      "execution_count": null,
      "outputs": []
    },
    {
      "cell_type": "markdown",
      "metadata": {
        "_uuid": "c24f32b5ef905f9c4df2a020be4419a77c80237e",
        "id": "892A1wjvLhb7",
        "colab_type": "text"
      },
      "source": [
        "#### Data Preparation & Exploration"
      ]
    },
    {
      "cell_type": "markdown",
      "metadata": {
        "_uuid": "30f46a96158710351f4ccb4e0103c71404f58e7d",
        "id": "khaK4AW0LhcE",
        "colab_type": "text"
      },
      "source": [
        "Let's take a look at a few of these images. Rerun this cell multiple times to see different images for each class.\n",
        "\n",
        "You may notice that these images look low fidelity, which is because they are! As we increase our image size, we also increase our model complexity. What's important is that our classes are still distinguishable from each other."
      ]
    },
    {
      "cell_type": "code",
      "metadata": {
        "_uuid": "a27c478fcac8675aadd40f96fd144a805475b681",
        "colab_type": "code",
        "id": "gPolpADLYv9p",
        "scrolled": true,
        "colab": {
          "base_uri": "https://localhost:8080/",
          "height": 367
        },
        "outputId": "6f63b198-d26c-4dcb-dd58-f2839845d579"
      },
      "source": [
        "fig, ax = plt.subplots(2, 5)\n",
        "fig.set_size_inches(10, 6)\n",
        "\n",
        "for i in range(2):\n",
        "    for j in range(5):\n",
        "        c = j + 5*i # Class counter\n",
        "        l = np.random.choice(np.where(y == c)[0], 1)[0] # Get a random image from class c\n",
        "        ax[i, j].imshow(X[l])\n",
        "        ax[i, j].set_title('Class: ' + str(y[l]))\n",
        "        # Hide grid lines\n",
        "        ax[i, j].grid(False)\n",
        "        # Hide axes ticks\n",
        "        ax[i, j].set_xticks([])\n",
        "        ax[i, j].set_yticks([])\n",
        "        \n",
        "plt.tight_layout()"
      ],
      "execution_count": null,
      "outputs": [
        {
          "output_type": "display_data",
          "data": {
            "image/png": "[encoded data removed]",
            "text/plain": [
              "<Figure size 720x432 with 10 Axes>"
            ]
          },
          "metadata": {
            "tags": []
          }
        }
      ]
    },
    {
      "cell_type": "markdown",
      "metadata": {
        "id": "vddd-xejqVV7",
        "colab_type": "text"
      },
      "source": [
        "#### Let's take a look at the format of our data"
      ]
    },
    {
      "cell_type": "code",
      "metadata": {
        "id": "aSmQVBA7qaxd",
        "colab_type": "code",
        "colab": {
          "base_uri": "https://localhost:8080/",
          "height": 54
        },
        "outputId": "24d031e6-48a3-4c0f-8cad-3c5894696c3e"
      },
      "source": [
        "print('X (images)', X.shape)\n",
        "print('y (classes)', y.shape)"
      ],
      "execution_count": null,
      "outputs": [
        {
          "output_type": "stream",
          "text": [
            "X (images) (50000, 32, 32, 3)\n",
            "y (classes) (50000, 1)\n"
          ],
          "name": "stdout"
        }
      ]
    },
    {
      "cell_type": "markdown",
      "metadata": {
        "id": "ytuPNJQWqkZX",
        "colab_type": "text"
      },
      "source": [
        "We can see that we have 50,000 samples, where each images is 32 by 32 pixels with 3 color channels: RGB.\n",
        "\n",
        "For each of these images, we have a single label for which class they each belong to."
      ]
    },
    {
      "cell_type": "markdown",
      "metadata": {
        "_uuid": "77ec9e39e572f004918ea99a6866ee3a06c68324",
        "id": "NCS6ejuoLhcH",
        "colab_type": "text"
      },
      "source": [
        "#### One hot encode the labels, and normalize the data\n",
        "\n",
        "Similarly to previous exercises, we want to one hot encode our class labels. We also want to normalize our image data similarly to what we did in Assignment 3."
      ]
    },
    {
      "cell_type": "code",
      "metadata": {
        "id": "DT_F8m-vLhcI",
        "colab_type": "code",
        "colab": {}
      },
      "source": [
        "# One-hot encode those integer values of class labels\n",
        "y = to_categorical(y, 10)\n",
        "\n",
        "# Normalize all entries to the interval [0, 1]\n",
        "X = X / 255."
      ],
      "execution_count": null,
      "outputs": []
    },
    {
      "cell_type": "code",
      "metadata": {
        "id": "OeJ7tjfveUZV",
        "colab_type": "code",
        "colab": {
          "base_uri": "https://localhost:8080/",
          "height": 35
        },
        "outputId": "fd781525-769f-4ac7-9d50-eefb72c3a308"
      },
      "source": [
        "y.shape"
      ],
      "execution_count": null,
      "outputs": [
        {
          "output_type": "execute_result",
          "data": {
            "text/plain": [
              "(50000, 10)"
            ]
          },
          "metadata": {
            "tags": []
          },
          "execution_count": 13
        }
      ]
    },
    {
      "cell_type": "markdown",
      "metadata": {
        "_uuid": "b8952f9ac2af66841a9c000126de56b44301d3ce",
        "id": "H9PP4rQhLhdD",
        "colab_type": "text"
      },
      "source": [
        "### Problem 1 (a)\n",
        "Create your own deep learning architecture, and train it on the dataset above. If you're unsure where to start, begin by referencing the in class exercises. \n",
        "\n",
        "One suggestion is to add several convolution layers each followed by a maxpooling layer. Towards the end you can add one or more fully connected layers. Dropout layers are often useful after each fully connected layer for overfitting, and you can try experimenting with that parameter. Your model should be able to reach **70% validation accuracy**.\n",
        "\n",
        "You are responsible for your model architecture, hyperparameters, and optimizer. \n",
        "\n",
        "**HOWEVER, you are limited to a maximum of 50 epochs and 500,000 model parameters! You will lose points for exceeding these limits.**"
      ]
    },
    {
      "cell_type": "code",
      "metadata": {
        "id": "mVjSUo_9LhdE",
        "colab_type": "code",
        "colab": {}
      },
      "source": [
        "# This is where we define the architecture of our deep neural network.\n",
        "def vanilla_cnn():\n",
        "  model = Sequential()\n",
        "  model.add(Conv2D(filters = 32,      \n",
        "                 kernel_size = (3, 3), \n",
        "                 padding = 'Same',\n",
        "                 activation = 'relu', \n",
        "                 input_shape = (32, 32, 3)))\n",
        "  model.add(BatchNormalization())\n",
        "  model.add(MaxPooling2D(pool_size = (2, 2)))\n",
        "  model.add(Conv2D(filters = 32,      \n",
        "                 kernel_size = (3, 3), \n",
        "                 padding = 'Same',\n",
        "                 activation = 'relu'))\n",
        "  model.add(BatchNormalization())\n",
        "  model.add(MaxPooling2D(pool_size = (2, 2)))\n",
        "  model.add(Conv2D(filters = 32,      \n",
        "                 kernel_size = (3, 3), \n",
        "                 padding = 'Same',\n",
        "                 activation = 'relu'))\n",
        "  model.add(BatchNormalization())\n",
        "  model.add(MaxPooling2D(pool_size = (2, 2)))\n",
        "  model.add(MaxPooling2D(pool_size = (2, 2)))\n",
        "  model.add(Conv2D(filters = 32,      \n",
        "                 kernel_size = (3, 3), \n",
        "                 padding = 'Same',\n",
        "                 activation = 'relu'))\n",
        "  model.add(BatchNormalization())\n",
        "  model.add(MaxPooling2D(pool_size = (2, 2)))\n",
        "  \n",
        "  model.add(Flatten())\n",
        "  model.add(Dense(20, activation = 'relu'))\n",
        "  model.add(Dense(10, activation = 'relu'))\n",
        "  model.add(Dense(10, activation = \"softmax\"))\n",
        "  return model"
      ],
      "execution_count": null,
      "outputs": []
    },
    {
      "cell_type": "code",
      "metadata": {
        "id": "PO003fD15wop",
        "colab_type": "code",
        "colab": {}
      },
      "source": [
        "# A batch is the size of each training chunk. We're implementing batch gradient descent, which is in between\n",
        "# stochastic gradient descent and full gradient descent.\n",
        "batchsize = 16 ### YOUR CODE HERE ###\n",
        "\n",
        "# Each epoch goes through the entire training set once\n",
        "epochs = 50 ### YOUR CODE HERE ### MAXIMUM OF 50!\n",
        "\n",
        "model = vanilla_cnn()"
      ],
      "execution_count": null,
      "outputs": []
    },
    {
      "cell_type": "code",
      "metadata": {
        "id": "17ierp23gv3W",
        "colab_type": "code",
        "colab": {
          "base_uri": "https://localhost:8080/",
          "height": 35
        },
        "outputId": "9ca9f2d2-04fb-4cc4-c9be-032d5d418ee0"
      },
      "source": [
        "model"
      ],
      "execution_count": null,
      "outputs": [
        {
          "output_type": "execute_result",
          "data": {
            "text/plain": [
              "<tensorflow.python.keras.engine.sequential.Sequential at 0x7f2fa251e748>"
            ]
          },
          "metadata": {
            "tags": []
          },
          "execution_count": 136
        }
      ]
    },
    {
      "cell_type": "code",
      "metadata": {
        "id": "o4reatYS5edV",
        "colab_type": "code",
        "colab": {}
      },
      "source": [
        "opt = \"SGD\" ### YOUR CODE HERE ###\n",
        "\n",
        "model.compile(optimizer = opt,\n",
        "              loss = 'categorical_crossentropy',\n",
        "              metrics = ['accuracy'])"
      ],
      "execution_count": null,
      "outputs": []
    },
    {
      "cell_type": "code",
      "metadata": {
        "id": "0FDudYr552rv",
        "colab_type": "code",
        "colab": {
          "base_uri": "https://localhost:8080/",
          "height": 788
        },
        "outputId": "6c56ac3d-dbf8-4b04-a455-bf46ad10a6ae"
      },
      "source": [
        "model.summary()\n",
        "# MAXIMUM OF 500,000 PARAMETERS!"
      ],
      "execution_count": null,
      "outputs": [
        {
          "output_type": "stream",
          "text": [
            "Model: \"sequential_27\"\n",
            "_________________________________________________________________\n",
            "Layer (type)                 Output Shape              Param #   \n",
            "=================================================================\n",
            "conv2d_57 (Conv2D)           (None, 32, 32, 32)        896       \n",
            "_________________________________________________________________\n",
            "batch_normalization_19 (Batc (None, 32, 32, 32)        128       \n",
            "_________________________________________________________________\n",
            "max_pooling2d_56 (MaxPooling (None, 16, 16, 32)        0         \n",
            "_________________________________________________________________\n",
            "conv2d_58 (Conv2D)           (None, 16, 16, 32)        9248      \n",
            "_________________________________________________________________\n",
            "batch_normalization_20 (Batc (None, 16, 16, 32)        128       \n",
            "_________________________________________________________________\n",
            "max_pooling2d_57 (MaxPooling (None, 8, 8, 32)          0         \n",
            "_________________________________________________________________\n",
            "conv2d_59 (Conv2D)           (None, 8, 8, 32)          9248      \n",
            "_________________________________________________________________\n",
            "batch_normalization_21 (Batc (None, 8, 8, 32)          128       \n",
            "_________________________________________________________________\n",
            "max_pooling2d_58 (MaxPooling (None, 4, 4, 32)          0         \n",
            "_________________________________________________________________\n",
            "max_pooling2d_59 (MaxPooling (None, 2, 2, 32)          0         \n",
            "_________________________________________________________________\n",
            "conv2d_60 (Conv2D)           (None, 2, 2, 32)          9248      \n",
            "_________________________________________________________________\n",
            "batch_normalization_22 (Batc (None, 2, 2, 32)          128       \n",
            "_________________________________________________________________\n",
            "max_pooling2d_60 (MaxPooling (None, 1, 1, 32)          0         \n",
            "_________________________________________________________________\n",
            "flatten_24 (Flatten)         (None, 32)                0         \n",
            "_________________________________________________________________\n",
            "dense_49 (Dense)             (None, 20)                660       \n",
            "_________________________________________________________________\n",
            "dense_50 (Dense)             (None, 10)                210       \n",
            "_________________________________________________________________\n",
            "dense_51 (Dense)             (None, 10)                110       \n",
            "=================================================================\n",
            "Total params: 30,132\n",
            "Trainable params: 29,876\n",
            "Non-trainable params: 256\n",
            "_________________________________________________________________\n"
          ],
          "name": "stdout"
        }
      ]
    },
    {
      "cell_type": "code",
      "metadata": {
        "id": "kK7nvHYr6P4J",
        "colab_type": "code",
        "colab": {
          "base_uri": "https://localhost:8080/",
          "height": 1000
        },
        "outputId": "69a88530-e285-4820-ba2c-0fea8720fd93"
      },
      "source": [
        "history = model.fit(X, \n",
        "                    y,\n",
        "                    batch_size = batchsize,\n",
        "                    epochs = epochs, \n",
        "                    validation_split = 0.2, # DON'T CHANGE validation_split!\n",
        "                    verbose = 1)"
      ],
      "execution_count": null,
      "outputs": [
        {
          "output_type": "stream",
          "text": [
            "Epoch 1/50\n",
            "2500/2500 [==============================] - 12s 5ms/step - loss: 1.7420 - accuracy: 0.3493 - val_loss: 2.0774 - val_accuracy: 0.2879\n",
            "Epoch 2/50\n",
            "2500/2500 [==============================] - 12s 5ms/step - loss: 1.3784 - accuracy: 0.4992 - val_loss: 1.3276 - val_accuracy: 0.5205\n",
            "Epoch 3/50\n",
            "2500/2500 [==============================] - 12s 5ms/step - loss: 1.2190 - accuracy: 0.5646 - val_loss: 1.2519 - val_accuracy: 0.5507\n",
            "Epoch 4/50\n",
            "2500/2500 [==============================] - 12s 5ms/step - loss: 1.1196 - accuracy: 0.6015 - val_loss: 1.1152 - val_accuracy: 0.6047\n",
            "Epoch 5/50\n",
            "2500/2500 [==============================] - 12s 5ms/step - loss: 1.0506 - accuracy: 0.6290 - val_loss: 1.5163 - val_accuracy: 0.4947\n",
            "Epoch 6/50\n",
            "2500/2500 [==============================] - 12s 5ms/step - loss: 0.9894 - accuracy: 0.6522 - val_loss: 1.0152 - val_accuracy: 0.6414\n",
            "Epoch 7/50\n",
            "2500/2500 [==============================] - 12s 5ms/step - loss: 0.9444 - accuracy: 0.6657 - val_loss: 1.0298 - val_accuracy: 0.6413\n",
            "Epoch 8/50\n",
            "2500/2500 [==============================] - 12s 5ms/step - loss: 0.9025 - accuracy: 0.6849 - val_loss: 1.1191 - val_accuracy: 0.6062\n",
            "Epoch 9/50\n",
            "2500/2500 [==============================] - 12s 5ms/step - loss: 0.8750 - accuracy: 0.6924 - val_loss: 0.9971 - val_accuracy: 0.6521\n",
            "Epoch 10/50\n",
            "2500/2500 [==============================] - 12s 5ms/step - loss: 0.8471 - accuracy: 0.7035 - val_loss: 1.1097 - val_accuracy: 0.6190\n",
            "Epoch 11/50\n",
            "2500/2500 [==============================] - 12s 5ms/step - loss: 0.8265 - accuracy: 0.7089 - val_loss: 0.8982 - val_accuracy: 0.6891\n",
            "Epoch 12/50\n",
            "2500/2500 [==============================] - 12s 5ms/step - loss: 0.8010 - accuracy: 0.7191 - val_loss: 0.9152 - val_accuracy: 0.6873\n",
            "Epoch 13/50\n",
            "2500/2500 [==============================] - 13s 5ms/step - loss: 0.7881 - accuracy: 0.7246 - val_loss: 0.9079 - val_accuracy: 0.6913\n",
            "Epoch 14/50\n",
            "2500/2500 [==============================] - 12s 5ms/step - loss: 0.7606 - accuracy: 0.7348 - val_loss: 0.8971 - val_accuracy: 0.6889\n",
            "Epoch 15/50\n",
            "2500/2500 [==============================] - 12s 5ms/step - loss: 0.7461 - accuracy: 0.7397 - val_loss: 0.9039 - val_accuracy: 0.6883\n",
            "Epoch 16/50\n",
            "2500/2500 [==============================] - 12s 5ms/step - loss: 0.7361 - accuracy: 0.7415 - val_loss: 0.8636 - val_accuracy: 0.6996\n",
            "Epoch 17/50\n",
            "2500/2500 [==============================] - 12s 5ms/step - loss: 0.7205 - accuracy: 0.7472 - val_loss: 0.9690 - val_accuracy: 0.6688\n",
            "Epoch 18/50\n",
            "2500/2500 [==============================] - 12s 5ms/step - loss: 0.7055 - accuracy: 0.7513 - val_loss: 0.9456 - val_accuracy: 0.6754\n",
            "Epoch 19/50\n",
            "2500/2500 [==============================] - 12s 5ms/step - loss: 0.6938 - accuracy: 0.7547 - val_loss: 0.9439 - val_accuracy: 0.6808\n",
            "Epoch 20/50\n",
            "2500/2500 [==============================] - 12s 5ms/step - loss: 0.6814 - accuracy: 0.7617 - val_loss: 0.9939 - val_accuracy: 0.6666\n",
            "Epoch 21/50\n",
            "2500/2500 [==============================] - 12s 5ms/step - loss: 0.6737 - accuracy: 0.7634 - val_loss: 0.8896 - val_accuracy: 0.7020\n",
            "Epoch 22/50\n",
            "2500/2500 [==============================] - 12s 5ms/step - loss: 0.6570 - accuracy: 0.7693 - val_loss: 1.0788 - val_accuracy: 0.6511\n",
            "Epoch 23/50\n",
            "2500/2500 [==============================] - 12s 5ms/step - loss: 0.6538 - accuracy: 0.7710 - val_loss: 0.9291 - val_accuracy: 0.6890\n",
            "Epoch 24/50\n",
            "2500/2500 [==============================] - 12s 5ms/step - loss: 0.6421 - accuracy: 0.7737 - val_loss: 0.8948 - val_accuracy: 0.6992\n",
            "Epoch 25/50\n",
            "2500/2500 [==============================] - 12s 5ms/step - loss: 0.6333 - accuracy: 0.7760 - val_loss: 0.8899 - val_accuracy: 0.7000\n",
            "Epoch 26/50\n",
            "2500/2500 [==============================] - 12s 5ms/step - loss: 0.6263 - accuracy: 0.7800 - val_loss: 0.9041 - val_accuracy: 0.7019\n",
            "Epoch 27/50\n",
            "2500/2500 [==============================] - 12s 5ms/step - loss: 0.6124 - accuracy: 0.7825 - val_loss: 0.9048 - val_accuracy: 0.7002\n",
            "Epoch 28/50\n",
            "2500/2500 [==============================] - 12s 5ms/step - loss: 0.6117 - accuracy: 0.7844 - val_loss: 0.9217 - val_accuracy: 0.6949\n",
            "Epoch 29/50\n",
            "2500/2500 [==============================] - 12s 5ms/step - loss: 0.6028 - accuracy: 0.7871 - val_loss: 0.9347 - val_accuracy: 0.6886\n",
            "Epoch 30/50\n",
            "2500/2500 [==============================] - 12s 5ms/step - loss: 0.5947 - accuracy: 0.7909 - val_loss: 0.9441 - val_accuracy: 0.6932\n",
            "Epoch 31/50\n",
            "2500/2500 [==============================] - 12s 5ms/step - loss: 0.5827 - accuracy: 0.7938 - val_loss: 1.0115 - val_accuracy: 0.6779\n",
            "Epoch 32/50\n",
            "2500/2500 [==============================] - 12s 5ms/step - loss: 0.5812 - accuracy: 0.7959 - val_loss: 0.9201 - val_accuracy: 0.7008\n",
            "Epoch 33/50\n",
            "2500/2500 [==============================] - 12s 5ms/step - loss: 0.5743 - accuracy: 0.7969 - val_loss: 0.8898 - val_accuracy: 0.7141\n",
            "Epoch 34/50\n",
            "2500/2500 [==============================] - 12s 5ms/step - loss: 0.5694 - accuracy: 0.7976 - val_loss: 1.2991 - val_accuracy: 0.6027\n",
            "Epoch 35/50\n",
            "2500/2500 [==============================] - 12s 5ms/step - loss: 0.5607 - accuracy: 0.8013 - val_loss: 0.9222 - val_accuracy: 0.7070\n",
            "Epoch 36/50\n",
            "2500/2500 [==============================] - 12s 5ms/step - loss: 0.5577 - accuracy: 0.8014 - val_loss: 0.9044 - val_accuracy: 0.7069\n",
            "Epoch 37/50\n",
            "2500/2500 [==============================] - 12s 5ms/step - loss: 0.5508 - accuracy: 0.8036 - val_loss: 0.8867 - val_accuracy: 0.7177\n",
            "Epoch 38/50\n",
            "2500/2500 [==============================] - 12s 5ms/step - loss: 0.5433 - accuracy: 0.8061 - val_loss: 1.0694 - val_accuracy: 0.6761\n",
            "Epoch 39/50\n",
            "2500/2500 [==============================] - 13s 5ms/step - loss: 0.5376 - accuracy: 0.8089 - val_loss: 0.9322 - val_accuracy: 0.7057\n",
            "Epoch 40/50\n",
            "2500/2500 [==============================] - 12s 5ms/step - loss: 0.5348 - accuracy: 0.8119 - val_loss: 0.9617 - val_accuracy: 0.6979\n",
            "Epoch 41/50\n",
            "2500/2500 [==============================] - 12s 5ms/step - loss: 0.5269 - accuracy: 0.8126 - val_loss: 0.9170 - val_accuracy: 0.7182\n",
            "Epoch 42/50\n",
            "2500/2500 [==============================] - 12s 5ms/step - loss: 0.5262 - accuracy: 0.8130 - val_loss: 0.9879 - val_accuracy: 0.6991\n",
            "Epoch 43/50\n",
            "2500/2500 [==============================] - 12s 5ms/step - loss: 0.5205 - accuracy: 0.8172 - val_loss: 0.9878 - val_accuracy: 0.7023\n",
            "Epoch 44/50\n",
            "2500/2500 [==============================] - 12s 5ms/step - loss: 0.5183 - accuracy: 0.8178 - val_loss: 0.9417 - val_accuracy: 0.7045\n",
            "Epoch 45/50\n",
            "2500/2500 [==============================] - 12s 5ms/step - loss: 0.5085 - accuracy: 0.8198 - val_loss: 0.9439 - val_accuracy: 0.7065\n",
            "Epoch 46/50\n",
            "2500/2500 [==============================] - 12s 5ms/step - loss: 0.5021 - accuracy: 0.8219 - val_loss: 0.9611 - val_accuracy: 0.7064\n",
            "Epoch 47/50\n",
            "2500/2500 [==============================] - 12s 5ms/step - loss: 0.5026 - accuracy: 0.8241 - val_loss: 0.9074 - val_accuracy: 0.7163\n",
            "Epoch 48/50\n",
            "2500/2500 [==============================] - 12s 5ms/step - loss: 0.5020 - accuracy: 0.8243 - val_loss: 0.9643 - val_accuracy: 0.7022\n",
            "Epoch 49/50\n",
            "2500/2500 [==============================] - 12s 5ms/step - loss: 0.4918 - accuracy: 0.8257 - val_loss: 0.9401 - val_accuracy: 0.7108\n",
            "Epoch 50/50\n",
            "2500/2500 [==============================] - 12s 5ms/step - loss: 0.4890 - accuracy: 0.8248 - val_loss: 0.9726 - val_accuracy: 0.7101\n"
          ],
          "name": "stdout"
        }
      ]
    },
    {
      "cell_type": "markdown",
      "metadata": {
        "id": "-NrXxz4pLhdG",
        "colab_type": "text"
      },
      "source": [
        "### Problem 1 (b)\n",
        "Create training and validation loss and accuracy plots as above."
      ]
    },
    {
      "cell_type": "code",
      "metadata": {
        "id": "ri2mViLfLhdG",
        "colab_type": "code",
        "colab": {
          "base_uri": "https://localhost:8080/",
          "height": 617
        },
        "outputId": "53ad8722-c0fd-4490-b27a-a0808f3d89dd"
      },
      "source": [
        "### YOUR CODE HERE ###\n",
        "\n",
        "plt.plot(history.history['loss'])\n",
        "plt.plot(history.history['val_loss'])\n",
        "plt.title('Model Loss')\n",
        "plt.ylabel('Loss')\n",
        "plt.xlabel('Epochs')\n",
        "plt.legend(['train', 'test'])\n",
        "plt.show()\n",
        "\n",
        "plt.plot(history.history['accuracy'])\n",
        "plt.plot(history.history['val_accuracy'])\n",
        "plt.title('Model Accuracy')\n",
        "plt.ylabel('Accuracy')\n",
        "plt.xlabel('Epochs')\n",
        "plt.legend(['train', 'test'])\n",
        "plt.show()\n"
      ],
      "execution_count": null,
      "outputs": [
        {
          "output_type": "display_data",
          "data": {
            "image/png": "[encoded data removed]",
            "text/plain": [
              "<Figure size 432x288 with 1 Axes>"
            ]
          },
          "metadata": {
            "tags": []
          }
        },
        {
          "output_type": "display_data",
          "data": {
            "image/png": "[encoded data removed]",
            "text/plain": [
              "<Figure size 432x288 with 1 Axes>"
            ]
          },
          "metadata": {
            "tags": []
          }
        }
      ]
    },
    {
      "cell_type": "markdown",
      "metadata": {
        "id": "UHk-PPM8KfZW",
        "colab_type": "text"
      },
      "source": [
        "## Transfer Learning\n",
        "\n",
        "There's a huge shortcut possible in training neural networks for recognition tasks, called transfer learning. The idea is to start with a fully trained image recognition neural network, off the shelf with  trained weights. We can repurpose the trained network for your particular recognition task, making use of the days of training that were needed to find those weights. What was learned by the neural net in it's early layers are useful features in recognizing various things in images. Keras even has pretrained models built in for this purpose. \n",
        "\n",
        "#### Keras Pretrained Models\n",
        "        Xception\n",
        "        VGG16\n",
        "        VGG19\n",
        "        ResNet, ResNetV2, ResNeXt\n",
        "        InceptionV3\n",
        "        InceptionResNetV2\n",
        "        MobileNet\n",
        "        MobileNetV2\n",
        "        DenseNet\n",
        "        NASNet\n",
        "\n",
        "Usually one uses the layers of the pretrained model up to some point, and then creates some fully connected layers to learn the desired recognition task. The earlier layers are \"frozen\", and only the later layers need to be trained. We'll use VGG16, which was trained to recognize 1000 objects in ImageNet. What we're doing here for our CIFAR-10 classifier may be akin to killing a fly with a shotgun, but the same process can be used to recognize objects the original network couldn't (i.e., you could use this technique to train your computer to recognize family and friends)."
      ]
    },
    {
      "cell_type": "code",
      "metadata": {
        "id": "Z7CNXqACKgQz",
        "colab_type": "code",
        "colab": {}
      },
      "source": [
        "# Some stuff we'll need...\n",
        "from tensorflow.keras.layers import Input\n",
        "from tensorflow.keras.applications.vgg16 import VGG16, preprocess_input\n",
        "from tensorflow.keras.preprocessing import image\n",
        "from tensorflow.keras.models import Model"
      ],
      "execution_count": null,
      "outputs": []
    },
    {
      "cell_type": "markdown",
      "metadata": {
        "id": "F4FK6jBJKxcC",
        "colab_type": "text"
      },
      "source": [
        "Creating this pretrained network is a one line command. Notice we specified that the \"top\" should not be included. We aren't classifying 1000 different categories like ImageNet, so we don't include that layer. We'll add our own layer more suited to the task at hand.\n",
        "\n",
        "We choose 224 as our image dimension because the pretrained VGG16 was trained using the ImageNet dataset which has images of this dimension."
      ]
    },
    {
      "cell_type": "code",
      "metadata": {
        "id": "KR7DziD7KqEX",
        "colab_type": "code",
        "colab": {
          "base_uri": "https://localhost:8080/",
          "height": 54
        },
        "outputId": "407b1aa3-0dbd-4204-a73c-4302920fbd23"
      },
      "source": [
        "# Import the VGG16 trained neural network model, minus it's last (top) neuron layer.\n",
        "base_model = VGG16(weights = 'imagenet', \n",
        "                   include_top = False, \n",
        "                   input_shape = (32, 32, 3), \n",
        "                   pooling = None)"
      ],
      "execution_count": null,
      "outputs": [
        {
          "output_type": "stream",
          "text": [
            "Downloading data from https://storage.googleapis.com/tensorflow/keras-applications/vgg16/vgg16_weights_tf_dim_ordering_tf_kernels_notop.h5\n",
            "58892288/58889256 [==============================] - 1s 0us/step\n"
          ],
          "name": "stdout"
        }
      ]
    },
    {
      "cell_type": "markdown",
      "metadata": {
        "id": "B6HReXu8K3wh",
        "colab_type": "text"
      },
      "source": [
        "Let's take a look at this pretrained model:"
      ]
    },
    {
      "cell_type": "code",
      "metadata": {
        "id": "gPhnajBAKyKm",
        "colab_type": "code",
        "colab": {
          "base_uri": "https://localhost:8080/",
          "height": 862
        },
        "outputId": "3b5c0885-3706-408e-9bc6-4c597bb0dd87"
      },
      "source": [
        "base_model.summary()"
      ],
      "execution_count": null,
      "outputs": [
        {
          "output_type": "stream",
          "text": [
            "Model: \"vgg16\"\n",
            "_________________________________________________________________\n",
            "Layer (type)                 Output Shape              Param #   \n",
            "=================================================================\n",
            "input_1 (InputLayer)         [(None, 32, 32, 3)]       0         \n",
            "_________________________________________________________________\n",
            "block1_conv1 (Conv2D)        (None, 32, 32, 64)        1792      \n",
            "_________________________________________________________________\n",
            "block1_conv2 (Conv2D)        (None, 32, 32, 64)        36928     \n",
            "_________________________________________________________________\n",
            "block1_pool (MaxPooling2D)   (None, 16, 16, 64)        0         \n",
            "_________________________________________________________________\n",
            "block2_conv1 (Conv2D)        (None, 16, 16, 128)       73856     \n",
            "_________________________________________________________________\n",
            "block2_conv2 (Conv2D)        (None, 16, 16, 128)       147584    \n",
            "_________________________________________________________________\n",
            "block2_pool (MaxPooling2D)   (None, 8, 8, 128)         0         \n",
            "_________________________________________________________________\n",
            "block3_conv1 (Conv2D)        (None, 8, 8, 256)         295168    \n",
            "_________________________________________________________________\n",
            "block3_conv2 (Conv2D)        (None, 8, 8, 256)         590080    \n",
            "_________________________________________________________________\n",
            "block3_conv3 (Conv2D)        (None, 8, 8, 256)         590080    \n",
            "_________________________________________________________________\n",
            "block3_pool (MaxPooling2D)   (None, 4, 4, 256)         0         \n",
            "_________________________________________________________________\n",
            "block4_conv1 (Conv2D)        (None, 4, 4, 512)         1180160   \n",
            "_________________________________________________________________\n",
            "block4_conv2 (Conv2D)        (None, 4, 4, 512)         2359808   \n",
            "_________________________________________________________________\n",
            "block4_conv3 (Conv2D)        (None, 4, 4, 512)         2359808   \n",
            "_________________________________________________________________\n",
            "block4_pool (MaxPooling2D)   (None, 2, 2, 512)         0         \n",
            "_________________________________________________________________\n",
            "block5_conv1 (Conv2D)        (None, 2, 2, 512)         2359808   \n",
            "_________________________________________________________________\n",
            "block5_conv2 (Conv2D)        (None, 2, 2, 512)         2359808   \n",
            "_________________________________________________________________\n",
            "block5_conv3 (Conv2D)        (None, 2, 2, 512)         2359808   \n",
            "_________________________________________________________________\n",
            "block5_pool (MaxPooling2D)   (None, 1, 1, 512)         0         \n",
            "=================================================================\n",
            "Total params: 14,714,688\n",
            "Trainable params: 14,714,688\n",
            "Non-trainable params: 0\n",
            "_________________________________________________________________\n"
          ],
          "name": "stdout"
        }
      ]
    },
    {
      "cell_type": "markdown",
      "metadata": {
        "id": "OEeQ9WXTLA6i",
        "colab_type": "text"
      },
      "source": [
        "Please do realize, this may be overkill for our toy recognition task. One could use this network with some layers (as we're about to add) to recognize 100 dog breeds or to recognize all your friends. If you wanted to recognize 100 dog breeds, you would use a final 100 neuron softmax for the final layer. We'll need a final softmax layer as before. First let's freeze all these pretrained weights. They are fine as they are."
      ]
    },
    {
      "cell_type": "code",
      "metadata": {
        "id": "YTziRl8BK64Y",
        "colab_type": "code",
        "colab": {}
      },
      "source": [
        "# This freezes the weights of our VGG16 pretrained model.\n",
        "for layer in base_model.layers:  \n",
        "    layer.trainable = False"
      ],
      "execution_count": null,
      "outputs": []
    },
    {
      "cell_type": "markdown",
      "metadata": {
        "id": "HhTrIRPbLMCB",
        "colab_type": "text"
      },
      "source": [
        "Now we'll add a flatten layer, a trainable dense layer, and a final softmax layer. This illustrates another way to create networks besides the sequential method we used for our example model.  This is the Keras functional approach to building networks. It's more flexible and more powerful than the sequential method. For example, it allows you to implement transfer learning."
      ]
    },
    {
      "cell_type": "code",
      "metadata": {
        "id": "YstHSchOLM7N",
        "colab_type": "code",
        "colab": {
          "base_uri": "https://localhost:8080/",
          "height": 972
        },
        "outputId": "4974eeaa-238a-4c85-c531-d8ac5a8338b7"
      },
      "source": [
        "# Now add layers to our pre-trained base model and add classification layers on top of it\n",
        "x = base_model.output\n",
        "x = Flatten()(x)\n",
        "x = Dense(64, activation = 'relu')(x)\n",
        "predic = Dense(10, activation = 'softmax')(x) \n",
        "\n",
        "# And now put this all together to create our new model.\n",
        "model = Model(inputs = base_model.input, outputs = predic) \n",
        "model.summary()"
      ],
      "execution_count": null,
      "outputs": [
        {
          "output_type": "stream",
          "text": [
            "Model: \"model\"\n",
            "_________________________________________________________________\n",
            "Layer (type)                 Output Shape              Param #   \n",
            "=================================================================\n",
            "input_1 (InputLayer)         [(None, 32, 32, 3)]       0         \n",
            "_________________________________________________________________\n",
            "block1_conv1 (Conv2D)        (None, 32, 32, 64)        1792      \n",
            "_________________________________________________________________\n",
            "block1_conv2 (Conv2D)        (None, 32, 32, 64)        36928     \n",
            "_________________________________________________________________\n",
            "block1_pool (MaxPooling2D)   (None, 16, 16, 64)        0         \n",
            "_________________________________________________________________\n",
            "block2_conv1 (Conv2D)        (None, 16, 16, 128)       73856     \n",
            "_________________________________________________________________\n",
            "block2_conv2 (Conv2D)        (None, 16, 16, 128)       147584    \n",
            "_________________________________________________________________\n",
            "block2_pool (MaxPooling2D)   (None, 8, 8, 128)         0         \n",
            "_________________________________________________________________\n",
            "block3_conv1 (Conv2D)        (None, 8, 8, 256)         295168    \n",
            "_________________________________________________________________\n",
            "block3_conv2 (Conv2D)        (None, 8, 8, 256)         590080    \n",
            "_________________________________________________________________\n",
            "block3_conv3 (Conv2D)        (None, 8, 8, 256)         590080    \n",
            "_________________________________________________________________\n",
            "block3_pool (MaxPooling2D)   (None, 4, 4, 256)         0         \n",
            "_________________________________________________________________\n",
            "block4_conv1 (Conv2D)        (None, 4, 4, 512)         1180160   \n",
            "_________________________________________________________________\n",
            "block4_conv2 (Conv2D)        (None, 4, 4, 512)         2359808   \n",
            "_________________________________________________________________\n",
            "block4_conv3 (Conv2D)        (None, 4, 4, 512)         2359808   \n",
            "_________________________________________________________________\n",
            "block4_pool (MaxPooling2D)   (None, 2, 2, 512)         0         \n",
            "_________________________________________________________________\n",
            "block5_conv1 (Conv2D)        (None, 2, 2, 512)         2359808   \n",
            "_________________________________________________________________\n",
            "block5_conv2 (Conv2D)        (None, 2, 2, 512)         2359808   \n",
            "_________________________________________________________________\n",
            "block5_conv3 (Conv2D)        (None, 2, 2, 512)         2359808   \n",
            "_________________________________________________________________\n",
            "block5_pool (MaxPooling2D)   (None, 1, 1, 512)         0         \n",
            "_________________________________________________________________\n",
            "flatten_25 (Flatten)         (None, 512)               0         \n",
            "_________________________________________________________________\n",
            "dense_52 (Dense)             (None, 64)                32832     \n",
            "_________________________________________________________________\n",
            "dense_53 (Dense)             (None, 10)                650       \n",
            "=================================================================\n",
            "Total params: 14,748,170\n",
            "Trainable params: 33,482\n",
            "Non-trainable params: 14,714,688\n",
            "_________________________________________________________________\n"
          ],
          "name": "stdout"
        }
      ]
    },
    {
      "cell_type": "markdown",
      "metadata": {
        "id": "YMnWikXkLczn",
        "colab_type": "text"
      },
      "source": [
        "#### Initialize Training Parameters"
      ]
    },
    {
      "cell_type": "code",
      "metadata": {
        "id": "vqWwKwCBLhyZ",
        "colab_type": "code",
        "colab": {}
      },
      "source": [
        "# Compile the model.\n",
        "model.compile(loss = 'categorical_crossentropy',\n",
        "              optimizer = RMSprop(lr = 0.001),\n",
        "              metrics = ['acc'])"
      ],
      "execution_count": null,
      "outputs": []
    },
    {
      "cell_type": "markdown",
      "metadata": {
        "id": "bUWfx4vYtblN",
        "colab_type": "text"
      },
      "source": [
        "We can see here in the Keras docs:\n",
        "\n",
        "https://keras.io/api/applications/vgg/#vgg16-function\n",
        "\n",
        "that we are required to preprocess our image data in a specific way to use this pretrained model, so let's go ahead and do that."
      ]
    },
    {
      "cell_type": "code",
      "metadata": {
        "id": "MX8s_zv6qM9G",
        "colab_type": "code",
        "colab": {}
      },
      "source": [
        "(X, y), (_, _) = cifar10.load_data()\n",
        "X = preprocess_input(X)\n",
        "y = to_categorical(y, 10)"
      ],
      "execution_count": null,
      "outputs": []
    },
    {
      "cell_type": "code",
      "metadata": {
        "id": "m9U0HITqLl-7",
        "colab_type": "code",
        "colab": {
          "base_uri": "https://localhost:8080/",
          "height": 752
        },
        "outputId": "05f33004-318b-42ed-d23f-9f568156d94f"
      },
      "source": [
        "# Let's also reduce the number of training epochs.\n",
        "epochs = 20\n",
        "batchsize = 200\n",
        "\n",
        "\n",
        "\n",
        "# Train the model\n",
        "history = model.fit(X, \n",
        "                    y,\n",
        "                    batch_size = batchsize,\n",
        "                    epochs = epochs, \n",
        "                    validation_split = 0.2,\n",
        "                    verbose = 1)"
      ],
      "execution_count": null,
      "outputs": [
        {
          "output_type": "stream",
          "text": [
            "Epoch 1/20\n",
            "200/200 [==============================] - 4s 22ms/step - loss: 2.9624 - acc: 0.4400 - val_loss: 1.5042 - val_acc: 0.5138\n",
            "Epoch 2/20\n",
            "200/200 [==============================] - 4s 20ms/step - loss: 1.2721 - acc: 0.5783 - val_loss: 1.2585 - val_acc: 0.5829\n",
            "Epoch 3/20\n",
            "200/200 [==============================] - 4s 21ms/step - loss: 1.0685 - acc: 0.6325 - val_loss: 1.1814 - val_acc: 0.6128\n",
            "Epoch 4/20\n",
            "200/200 [==============================] - 4s 21ms/step - loss: 0.9652 - acc: 0.6669 - val_loss: 1.1426 - val_acc: 0.6281\n",
            "Epoch 5/20\n",
            "200/200 [==============================] - 4s 21ms/step - loss: 0.9007 - acc: 0.6884 - val_loss: 1.1491 - val_acc: 0.6318\n",
            "Epoch 6/20\n",
            "200/200 [==============================] - 4s 21ms/step - loss: 0.8510 - acc: 0.7025 - val_loss: 1.1317 - val_acc: 0.6432\n",
            "Epoch 7/20\n",
            "200/200 [==============================] - 4s 20ms/step - loss: 0.8121 - acc: 0.7146 - val_loss: 1.1626 - val_acc: 0.6415\n",
            "Epoch 8/20\n",
            "200/200 [==============================] - 4s 21ms/step - loss: 0.7810 - acc: 0.7264 - val_loss: 1.1594 - val_acc: 0.6453\n",
            "Epoch 9/20\n",
            "200/200 [==============================] - 4s 20ms/step - loss: 0.7498 - acc: 0.7374 - val_loss: 1.1897 - val_acc: 0.6471\n",
            "Epoch 10/20\n",
            "200/200 [==============================] - 4s 21ms/step - loss: 0.7233 - acc: 0.7457 - val_loss: 1.2107 - val_acc: 0.6442\n",
            "Epoch 11/20\n",
            "200/200 [==============================] - 4s 21ms/step - loss: 0.7010 - acc: 0.7525 - val_loss: 1.2460 - val_acc: 0.6410\n",
            "Epoch 12/20\n",
            "200/200 [==============================] - 4s 21ms/step - loss: 0.6807 - acc: 0.7618 - val_loss: 1.2636 - val_acc: 0.6391\n",
            "Epoch 13/20\n",
            "200/200 [==============================] - 4s 20ms/step - loss: 0.6588 - acc: 0.7666 - val_loss: 1.2924 - val_acc: 0.6383\n",
            "Epoch 14/20\n",
            "200/200 [==============================] - 4s 20ms/step - loss: 0.6414 - acc: 0.7736 - val_loss: 1.3311 - val_acc: 0.6387\n",
            "Epoch 15/20\n",
            "200/200 [==============================] - 4s 21ms/step - loss: 0.6278 - acc: 0.7796 - val_loss: 1.3662 - val_acc: 0.6366\n",
            "Epoch 16/20\n",
            "200/200 [==============================] - 4s 20ms/step - loss: 0.6125 - acc: 0.7842 - val_loss: 1.3922 - val_acc: 0.6335\n",
            "Epoch 17/20\n",
            "200/200 [==============================] - 4s 21ms/step - loss: 0.5987 - acc: 0.7897 - val_loss: 1.4368 - val_acc: 0.6317\n",
            "Epoch 18/20\n",
            "200/200 [==============================] - 4s 21ms/step - loss: 0.5842 - acc: 0.7960 - val_loss: 1.4865 - val_acc: 0.6326\n",
            "Epoch 19/20\n",
            "200/200 [==============================] - 4s 20ms/step - loss: 0.5732 - acc: 0.7976 - val_loss: 1.5111 - val_acc: 0.6307\n",
            "Epoch 20/20\n",
            "200/200 [==============================] - 4s 20ms/step - loss: 0.5612 - acc: 0.8035 - val_loss: 1.5716 - val_acc: 0.6237\n"
          ],
          "name": "stdout"
        }
      ]
    },
    {
      "cell_type": "markdown",
      "metadata": {
        "id": "0uhLqkIpiiBV",
        "colab_type": "text"
      },
      "source": [
        "Now that's better, about 80% accuracy on the train set, but only about 62% accuracy on the validation set (though each time this is run, a different result is obtained, so your results may vary), and with fewer epochs and trainable parameters than a network from scratch (such as Question 1). And we didn't need to add much to the output of our pretrained VGG16 network.\n",
        "\n",
        "Do notice that we are heavily overfitting though.\n"
      ]
    },
    {
      "cell_type": "code",
      "metadata": {
        "id": "cyezuk-2M1Gq",
        "colab_type": "code",
        "colab": {
          "base_uri": "https://localhost:8080/",
          "height": 617
        },
        "outputId": "c0bec45d-a607-46bd-ac87-60d550591888"
      },
      "source": [
        "plt.plot(history.history['loss'])\n",
        "plt.plot(history.history['val_loss'])\n",
        "plt.title('Model Loss')\n",
        "plt.ylabel('Loss')\n",
        "plt.xlabel('Epochs')\n",
        "plt.legend(['train', 'test'])\n",
        "plt.show()\n",
        "\n",
        "plt.plot(history.history['acc'])\n",
        "plt.plot(history.history['val_acc'])\n",
        "plt.title('Model Accuracy')\n",
        "plt.ylabel('Accuracy')\n",
        "plt.xlabel('Epochs')\n",
        "plt.legend(['train', 'test'])\n",
        "plt.show()"
      ],
      "execution_count": null,
      "outputs": [
        {
          "output_type": "display_data",
          "data": {
            "image/png": "[encoded data removed]",
            "text/plain": [
              "<Figure size 432x288 with 1 Axes>"
            ]
          },
          "metadata": {
            "tags": []
          }
        },
        {
          "output_type": "display_data",
          "data": {
            "image/png": "[encoded data removed]",
            "text/plain": [
              "<Figure size 432x288 with 1 Axes>"
            ]
          },
          "metadata": {
            "tags": []
          }
        }
      ]
    },
    {
      "cell_type": "markdown",
      "metadata": {
        "id": "1Y8v3jO4jIMU",
        "colab_type": "text"
      },
      "source": [
        "### Problem 2(a)\n",
        "\n",
        "Add on your own last layers to the pretrained model and train it on the training data. You can increase (or decrease) the number of nodes per layer, increase (or decrease) the number of layers, and add dropout if your model is overfitting, change the hyperparameters, change your optimizer, etc. Try to get the validation accuracy higher than our example transfer learning model (shown above) was able to obtain, and try to minimize the amount of overfitting."
      ]
    },
    {
      "cell_type": "code",
      "metadata": {
        "id": "rXDiG-cdgsyZ",
        "colab_type": "code",
        "colab": {
          "base_uri": "https://localhost:8080/",
          "height": 1000
        },
        "outputId": "66e0b763-8ce9-4e26-eb1b-c41e10530190"
      },
      "source": [
        "base_model = VGG16(weights = 'imagenet', \n",
        "                   include_top = False, \n",
        "                   input_shape = (32, 32, 3), \n",
        "                   pooling = None)\n",
        "\n",
        "x = base_model.output\n",
        "x = Flatten()(x)\n",
        "### YOUR CODE HERE ###\n",
        "# model = Sequential()\n",
        "x = Dense(32, activation = 'relu')(x)\n",
        "# model.add(BatchNormalization())\n",
        "x = BatchNormalization()(x)\n",
        "# x = Dropout(0.6)(x)\n",
        "# x = base_model.add(Dropout(0.5))(x)\n",
        "predic = Dense(10, activation = 'softmax')(x) \n",
        "\n",
        "# And now put this all together to create our new model.\n",
        "model = Model(inputs = base_model.input, outputs = predic) \n",
        "model.summary()"
      ],
      "execution_count": null,
      "outputs": [
        {
          "output_type": "stream",
          "text": [
            "Model: \"model_8\"\n",
            "_________________________________________________________________\n",
            "Layer (type)                 Output Shape              Param #   \n",
            "=================================================================\n",
            "input_15 (InputLayer)        [(None, 32, 32, 3)]       0         \n",
            "_________________________________________________________________\n",
            "block1_conv1 (Conv2D)        (None, 32, 32, 64)        1792      \n",
            "_________________________________________________________________\n",
            "block1_conv2 (Conv2D)        (None, 32, 32, 64)        36928     \n",
            "_________________________________________________________________\n",
            "block1_pool (MaxPooling2D)   (None, 16, 16, 64)        0         \n",
            "_________________________________________________________________\n",
            "block2_conv1 (Conv2D)        (None, 16, 16, 128)       73856     \n",
            "_________________________________________________________________\n",
            "block2_conv2 (Conv2D)        (None, 16, 16, 128)       147584    \n",
            "_________________________________________________________________\n",
            "block2_pool (MaxPooling2D)   (None, 8, 8, 128)         0         \n",
            "_________________________________________________________________\n",
            "block3_conv1 (Conv2D)        (None, 8, 8, 256)         295168    \n",
            "_________________________________________________________________\n",
            "block3_conv2 (Conv2D)        (None, 8, 8, 256)         590080    \n",
            "_________________________________________________________________\n",
            "block3_conv3 (Conv2D)        (None, 8, 8, 256)         590080    \n",
            "_________________________________________________________________\n",
            "block3_pool (MaxPooling2D)   (None, 4, 4, 256)         0         \n",
            "_________________________________________________________________\n",
            "block4_conv1 (Conv2D)        (None, 4, 4, 512)         1180160   \n",
            "_________________________________________________________________\n",
            "block4_conv2 (Conv2D)        (None, 4, 4, 512)         2359808   \n",
            "_________________________________________________________________\n",
            "block4_conv3 (Conv2D)        (None, 4, 4, 512)         2359808   \n",
            "_________________________________________________________________\n",
            "block4_pool (MaxPooling2D)   (None, 2, 2, 512)         0         \n",
            "_________________________________________________________________\n",
            "block5_conv1 (Conv2D)        (None, 2, 2, 512)         2359808   \n",
            "_________________________________________________________________\n",
            "block5_conv2 (Conv2D)        (None, 2, 2, 512)         2359808   \n",
            "_________________________________________________________________\n",
            "block5_conv3 (Conv2D)        (None, 2, 2, 512)         2359808   \n",
            "_________________________________________________________________\n",
            "block5_pool (MaxPooling2D)   (None, 1, 1, 512)         0         \n",
            "_________________________________________________________________\n",
            "flatten_38 (Flatten)         (None, 512)               0         \n",
            "_________________________________________________________________\n",
            "dense_71 (Dense)             (None, 32)                16416     \n",
            "_________________________________________________________________\n",
            "batch_normalization_27 (Batc (None, 32)                128       \n",
            "_________________________________________________________________\n",
            "dense_72 (Dense)             (None, 10)                330       \n",
            "=================================================================\n",
            "Total params: 14,731,562\n",
            "Trainable params: 14,731,498\n",
            "Non-trainable params: 64\n",
            "_________________________________________________________________\n"
          ],
          "name": "stdout"
        }
      ]
    },
    {
      "cell_type": "code",
      "metadata": {
        "id": "-L3MDnyaj--5",
        "colab_type": "code",
        "colab": {}
      },
      "source": [
        "# Compile the model.\n",
        "\n",
        "learning_rate = 0.001\n",
        "momentum = 0.8\n",
        "sgd = SGD(lr=learning_rate, momentum=momentum, nesterov=False)\n",
        "\n",
        "### YOUR CODE HERE ###\n",
        "model.compile(loss = 'categorical_crossentropy',\n",
        "              optimizer = sgd,\n",
        "              metrics = ['acc'])"
      ],
      "execution_count": null,
      "outputs": []
    },
    {
      "cell_type": "code",
      "metadata": {
        "id": "hFFiPnzekCi9",
        "colab_type": "code",
        "colab": {
          "base_uri": "https://localhost:8080/",
          "height": 752
        },
        "outputId": "f81891a5-f31a-4b40-894f-8cfb63b46570"
      },
      "source": [
        "\n",
        "epochs = 20 ### Leave the epochs at 20 ###\n",
        "\n",
        "batchsize = 32### YOUR CODE HERE ###\n",
        "\n",
        "# Train the model\n",
        "\n",
        "# Train the model\n",
        "history = model.fit(X, \n",
        "                    y,\n",
        "                    batch_size = batchsize,\n",
        "                    epochs = epochs, \n",
        "                    validation_split = 0.2,\n",
        "                    verbose = 1)\n",
        "\n",
        "### YOUR CODE HERE ###"
      ],
      "execution_count": null,
      "outputs": [
        {
          "output_type": "stream",
          "text": [
            "Epoch 1/20\n",
            "1250/1250 [==============================] - 25s 20ms/step - loss: 1.5035 - acc: 0.5011 - val_loss: 1.0880 - val_acc: 0.6606\n",
            "Epoch 2/20\n",
            "1250/1250 [==============================] - 25s 20ms/step - loss: 0.9378 - acc: 0.7092 - val_loss: 0.7935 - val_acc: 0.7366\n",
            "Epoch 3/20\n",
            "1250/1250 [==============================] - 24s 20ms/step - loss: 0.6322 - acc: 0.8001 - val_loss: 0.6676 - val_acc: 0.7779\n",
            "Epoch 4/20\n",
            "1250/1250 [==============================] - 24s 20ms/step - loss: 0.4835 - acc: 0.8456 - val_loss: 0.5769 - val_acc: 0.8117\n",
            "Epoch 5/20\n",
            "1250/1250 [==============================] - 25s 20ms/step - loss: 0.3809 - acc: 0.8773 - val_loss: 0.5444 - val_acc: 0.8256\n",
            "Epoch 6/20\n",
            "1250/1250 [==============================] - 25s 20ms/step - loss: 0.2952 - acc: 0.9059 - val_loss: 0.5812 - val_acc: 0.8120\n",
            "Epoch 7/20\n",
            "1250/1250 [==============================] - 24s 20ms/step - loss: 0.2277 - acc: 0.9287 - val_loss: 0.5021 - val_acc: 0.8434\n",
            "Epoch 8/20\n",
            "1250/1250 [==============================] - 25s 20ms/step - loss: 0.1656 - acc: 0.9495 - val_loss: 0.5200 - val_acc: 0.8475\n",
            "Epoch 9/20\n",
            "1250/1250 [==============================] - 24s 20ms/step - loss: 0.1189 - acc: 0.9649 - val_loss: 0.5255 - val_acc: 0.8501\n",
            "Epoch 10/20\n",
            "1250/1250 [==============================] - 24s 20ms/step - loss: 0.0769 - acc: 0.9789 - val_loss: 0.5390 - val_acc: 0.8592\n",
            "Epoch 11/20\n",
            "1250/1250 [==============================] - 24s 20ms/step - loss: 0.0746 - acc: 0.9788 - val_loss: 0.6981 - val_acc: 0.8403\n",
            "Epoch 12/20\n",
            "1250/1250 [==============================] - 24s 20ms/step - loss: 0.0543 - acc: 0.9853 - val_loss: 0.6238 - val_acc: 0.8486\n",
            "Epoch 13/20\n",
            "1250/1250 [==============================] - 24s 20ms/step - loss: 0.0435 - acc: 0.9881 - val_loss: 0.7075 - val_acc: 0.8392\n",
            "Epoch 14/20\n",
            "1250/1250 [==============================] - 24s 20ms/step - loss: 0.0405 - acc: 0.9885 - val_loss: 0.6781 - val_acc: 0.8458\n",
            "Epoch 15/20\n",
            "1250/1250 [==============================] - 24s 20ms/step - loss: 0.0385 - acc: 0.9891 - val_loss: 0.6193 - val_acc: 0.8542\n",
            "Epoch 16/20\n",
            "1250/1250 [==============================] - 24s 20ms/step - loss: 0.0209 - acc: 0.9952 - val_loss: 0.7110 - val_acc: 0.8450\n",
            "Epoch 17/20\n",
            "1250/1250 [==============================] - 25s 20ms/step - loss: 0.0209 - acc: 0.9947 - val_loss: 0.8730 - val_acc: 0.8470\n",
            "Epoch 18/20\n",
            "1250/1250 [==============================] - 24s 20ms/step - loss: 0.0226 - acc: 0.9943 - val_loss: 0.6113 - val_acc: 0.8627\n",
            "Epoch 19/20\n",
            "1250/1250 [==============================] - 25s 20ms/step - loss: 0.0212 - acc: 0.9946 - val_loss: 0.7653 - val_acc: 0.8432\n",
            "Epoch 20/20\n",
            "1250/1250 [==============================] - 24s 20ms/step - loss: 0.0253 - acc: 0.9927 - val_loss: 0.6684 - val_acc: 0.8528\n"
          ],
          "name": "stdout"
        }
      ]
    },
    {
      "cell_type": "markdown",
      "metadata": {
        "id": "SzkmJfSClLqZ",
        "colab_type": "text"
      },
      "source": [
        "### Problem 2(b)\n",
        "\n",
        "Create training and validation loss and accuracy plots for this model.\n"
      ]
    },
    {
      "cell_type": "code",
      "metadata": {
        "id": "k3Ga76rjlUj1",
        "colab_type": "code",
        "colab": {
          "base_uri": "https://localhost:8080/",
          "height": 617
        },
        "outputId": "8ae9a98b-8f26-4dad-fe10-6b30e24b3fe5"
      },
      "source": [
        "### YOUR CODE HERE ###\n",
        "plt.plot(history.history['loss'])\n",
        "plt.plot(history.history['val_loss'])\n",
        "plt.title('Model Loss')\n",
        "plt.ylabel('Loss')\n",
        "plt.xlabel('Epochs')\n",
        "plt.legend(['train', 'test'])\n",
        "plt.show()\n",
        "\n",
        "plt.plot(history.history['acc'])\n",
        "plt.plot(history.history['val_acc'])\n",
        "plt.title('Model Accuracy')\n",
        "plt.ylabel('Accuracy')\n",
        "plt.xlabel('Epochs')\n",
        "plt.legend(['train', 'test'])\n",
        "plt.show()"
      ],
      "execution_count": null,
      "outputs": [
        {
          "output_type": "display_data",
          "data": {
            "image/png": "[encoded data removed]",
            "text/plain": [
              "<Figure size 432x288 with 1 Axes>"
            ]
          },
          "metadata": {
            "tags": []
          }
        },
        {
          "output_type": "display_data",
          "data": {
            "image/png": "[encoded data removed]",
            "text/plain": [
              "<Figure size 432x288 with 1 Axes>"
            ]
          },
          "metadata": {
            "tags": []
          }
        }
      ]
    },
    {
      "cell_type": "markdown",
      "metadata": {
        "id": "UbubSpWlnoo3",
        "colab_type": "text"
      },
      "source": [
        "### Problem 2 (c)\n",
        "\n",
        "- What did you add in your transfer learning model after the VGG16 portion? \n",
        "\n",
        "After the VGG16 portion I added a dense layer and batch normalization in efforts to reduce the amount of overfitting observed in the original implementation of transfer learning in the example. Additionally I changed the optimizer and added momentum to observe a higher accuracy in both training and validation. \n",
        "\n",
        "- What did you try that didn't work?\n",
        "\n",
        "Some options I tried that didnt work was increasing the number of learnable parameters by having more neurons in the dense layer, without batch normalization. This did not work and seemed to overfit the model even more. Which is expected since the model was becomes more complex this way. Additionally I tried adding a dropout factor to the dense layer, however that was unsuccessful and resulted in the model underfitting in terms of both training and validation.\n",
        "\n",
        "- What optimizer and hyperparameters did you go with and why?\n",
        "\n",
        "I chose stochastic gradient descent (SGD) with a learning rate of 0.001 and momentum factor of 0.8. I chose SGD because I have not experimented with SGD using momentum before, and feared that the previous example model was stuck in a local minimum, a problem that momentum accomodates for.\n",
        "\n",
        "- How much did it improve over the example transfer learning model we provided?\n",
        "\n",
        "This model outperformed the previous model by about 20 percent in terms of both training and validation accuracy. \n"
      ]
    },
    {
      "cell_type": "markdown",
      "metadata": {
        "id": "y49iI0-IlXyv",
        "colab_type": "text"
      },
      "source": [
        "### Problem 2 (d)\n",
        "\n",
        "Does your final model show signs of underfitting or overfitting? Explain why you think so.\n",
        "\n",
        "The model still shows signs of overfitting despite our efforts. This likely happens because there wasn't any dropout or regularization factor applied to the model. Additionally SGD performed very well on the training set, it performed too optimally resulting in nearly 100% accuracy on the training set. This optimizer however also improved the accuracy of validation, so I kept it as is. Adding batch normalization however definitely helped underfitting though."
      ]
    }
  ]
}