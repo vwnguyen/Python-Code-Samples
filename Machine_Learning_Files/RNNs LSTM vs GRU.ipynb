{
  "nbformat": 4,
  "nbformat_minor": 0,
  "metadata": {
    "colab": {
      "name": "CSE144 Assignment5.ipynb",
      "provenance": [],
      "collapsed_sections": []
    },
    "kernelspec": {
      "name": "python3",
      "display_name": "Python 3"
    },
    "accelerator": "GPU"
  },
  "cells": [
    {
      "cell_type": "markdown",
      "metadata": {
        "id": "rzPAjr9ZjDtZ",
        "colab_type": "text"
      },
      "source": [
        "# **Assignment 5**\n",
        "\n",
        "Turn in the assignment via Canvas.\n",
        "\n",
        "To write legible answers you will need to be familiar with both [Markdown](https://github.com/adam-p/markdown-here/wiki/Markdown-Cheatsheet) and [Latex](https://www.latex-tutorial.com/tutorials/amsmath/)\n",
        "\n",
        "Before you turn this problem in, make sure everything runs as expected. First, restart the kernel (in the menubar, select Kernel→→Restart) and then run all cells (in the menubar, select Cell→→Run All).\n",
        "\n",
        "Make sure you fill in any place that says \"YOUR CODE HERE\" or \"YOUR ANSWER HERE\", as well as your name below:"
      ]
    },
    {
      "cell_type": "code",
      "metadata": {
        "id": "Ziuazg-CjLVI",
        "colab_type": "code",
        "colab": {}
      },
      "source": [
        "NAME = \"\"\n",
        "STUDENT_ID = \"\""
      ],
      "execution_count": 0,
      "outputs": []
    },
    {
      "cell_type": "markdown",
      "metadata": {
        "id": "1YfcFRQ4jJKm",
        "colab_type": "text"
      },
      "source": [
        "Some imports we will need:"
      ]
    },
    {
      "cell_type": "code",
      "metadata": {
        "id": "1rZymfh6jGQS",
        "colab_type": "code",
        "colab": {}
      },
      "source": [
        "import tensorflow as tf\n",
        "from tensorflow.keras.datasets import reuters\n",
        "import matplotlib.pyplot as plt\n",
        "import numpy as np\n",
        "import string\n",
        "import textwrap\n",
        "from tensorflow.keras.preprocessing.sequence import pad_sequences\n",
        "from tensorflow.keras.utils import to_categorical\n",
        "from tensorflow.keras.layers import Embedding, Dense, Dropout, Input, LSTM, GRU, Bidirectional, Flatten\n",
        "from tensorflow.keras.models import Model"
      ],
      "execution_count": 0,
      "outputs": []
    },
    {
      "cell_type": "markdown",
      "metadata": {
        "id": "ujebcap3t1TV",
        "colab_type": "text"
      },
      "source": [
        "We will be expanding on the in class exercise and doing classification using an RNN but now with multiple labels instead of binary labels.\n",
        "\n",
        "We will be using the [Reuters newswire](https://keras.io/api/datasets/reuters/) classification dataset, which has text paired with 46 topics as labels. You can see what these labels represent [here](https://martin-thoma.com/nlp-reuters/).\n",
        "\n",
        "Let's load the data:"
      ]
    },
    {
      "cell_type": "code",
      "metadata": {
        "id": "NjNkh8CYt0a0",
        "colab_type": "code",
        "outputId": "cfb96a3e-576b-445e-9ff0-c340111015ab",
        "colab": {
          "base_uri": "https://localhost:8080/",
          "height": 54
        }
      },
      "source": [
        "(X_train, y_train), (_, _) = reuters.load_data()"
      ],
      "execution_count": 0,
      "outputs": [
        {
          "output_type": "stream",
          "text": [
            "Downloading data from https://storage.googleapis.com/tensorflow/tf-keras-datasets/reuters.npz\n",
            "2113536/2110848 [==============================] - 0s 0us/step\n"
          ],
          "name": "stdout"
        }
      ]
    },
    {
      "cell_type": "code",
      "metadata": {
        "id": "3EPRNPl6wLN0",
        "colab_type": "code",
        "outputId": "cb6b2245-a53e-4a57-c2e0-2bc6307c7e0c",
        "colab": {
          "base_uri": "https://localhost:8080/",
          "height": 54
        }
      },
      "source": [
        "# https://stackoverflow.com/questions/42821330/restore-original-text-from-keras-s-imdb-dataset\n",
        "# Needed to encode our own reviews later\n",
        "\n",
        "word_dict = reuters.get_word_index()\n",
        "word_dict = {k:(v+3) for k,v in word_dict.items()}\n",
        "word_dict[\"<PAD>\"] = 0\n",
        "word_dict[\"<START>\"] = 1\n",
        "word_dict[\"<UNK>\"] = 2\n",
        "word_dict[\"<UNUSED>\"] = 3\n",
        "\n",
        "vocab_size = len(word_dict.keys())"
      ],
      "execution_count": 0,
      "outputs": [
        {
          "output_type": "stream",
          "text": [
            "Downloading data from https://storage.googleapis.com/tensorflow/tf-keras-datasets/reuters_word_index.json\n",
            "557056/550378 [==============================] - 0s 0us/step\n"
          ],
          "name": "stdout"
        }
      ]
    },
    {
      "cell_type": "code",
      "metadata": {
        "id": "0gcJ_YdLwP3z",
        "colab_type": "code",
        "colab": {}
      },
      "source": [
        "# Needed to decode training data into readable text\n",
        "\n",
        "inverse_word_dict = {value:key for key,value in word_dict.items()}"
      ],
      "execution_count": 0,
      "outputs": []
    },
    {
      "cell_type": "code",
      "metadata": {
        "id": "6QN8l1ZewUrR",
        "colab_type": "code",
        "outputId": "e049af07-495d-40d9-b314-7a3126055408",
        "colab": {
          "base_uri": "https://localhost:8080/",
          "height": 35
        }
      },
      "source": [
        "X_train = np.array(X_train)\n",
        "X_train = pad_sequences(X_train)\n",
        "\n",
        "max_sequence_len = X_train[0].shape[0]\n",
        "print('Padded to longest sequence length: ', max_sequence_len)"
      ],
      "execution_count": 0,
      "outputs": [
        {
          "output_type": "stream",
          "text": [
            "Padded to longest sequence length:  2376\n"
          ],
          "name": "stdout"
        }
      ]
    },
    {
      "cell_type": "code",
      "metadata": {
        "id": "uc11NQ0f0KO4",
        "colab_type": "code",
        "colab": {}
      },
      "source": [
        "y_train = to_categorical(y_train, 46)\n",
        "y_train = np.array(y_train)"
      ],
      "execution_count": 0,
      "outputs": []
    },
    {
      "cell_type": "code",
      "metadata": {
        "id": "POGKpaJowwuu",
        "colab_type": "code",
        "outputId": "89dc5fbb-31fc-4e6e-dcbb-73f4d9729fa9",
        "colab": {
          "base_uri": "https://localhost:8080/",
          "height": 35
        }
      },
      "source": [
        "print('Number of words in vocabulary: ', vocab_size)"
      ],
      "execution_count": 0,
      "outputs": [
        {
          "output_type": "stream",
          "text": [
            "Number of words in vocabulary:  30983\n"
          ],
          "name": "stdout"
        }
      ]
    },
    {
      "cell_type": "code",
      "metadata": {
        "id": "tuFotR_aw1U4",
        "colab_type": "code",
        "colab": {}
      },
      "source": [
        "def encode_text(text, word_dict, maxlen):\n",
        "  encoded_text = []\n",
        "  for raw_word in text.split(' '):\n",
        "    word = raw_word.strip().strip(string.punctuation).lower()\n",
        "    if word is '' or word is '\\n':\n",
        "      continue\n",
        "    try:\n",
        "      encoded_text.append(word_dict[word])\n",
        "    except KeyError as e:\n",
        "      # raise KeyError(f'{e} not in word dictionary, text not encoded.')\n",
        "      continue\n",
        "  return pad_sequences(np.array(encoded_text).reshape(1,-1), maxlen=maxlen)\n",
        "\n",
        "def decode_text(encoded_text, inverse_word_dict):\n",
        "  sentence = []\n",
        "  for encoded_word in encoded_text:\n",
        "    if encoded_word == 0:\n",
        "      continue\n",
        "    sentence.append(inverse_word_dict[encoded_word])\n",
        "  w = textwrap.TextWrapper(width=120,break_long_words=False,replace_whitespace=False)\n",
        "  return '\\n'.join(w.wrap(' '.join(sentence)))"
      ],
      "execution_count": 0,
      "outputs": []
    },
    {
      "cell_type": "markdown",
      "metadata": {
        "id": "jCgSMZJMx1Yw",
        "colab_type": "text"
      },
      "source": [
        "Let's take a look at an article in our training data:"
      ]
    },
    {
      "cell_type": "code",
      "metadata": {
        "id": "bL4zhOvfw72o",
        "colab_type": "code",
        "outputId": "72ada427-2492-4aef-826a-87ba1e57fd56",
        "colab": {
          "base_uri": "https://localhost:8080/",
          "height": 146
        }
      },
      "source": [
        "idx = 144\n",
        "\n",
        "print(decode_text(X_train[idx], inverse_word_dict), end='\\n\\n')\n",
        "\n",
        "print('Topic: ', y_train[idx])"
      ],
      "execution_count": 0,
      "outputs": [
        {
          "output_type": "stream",
          "text": [
            "<START> lt black hawk mining inc said it knows of no major activities to account for the recent rise in the company's\n",
            "stock price the shares rose 11 cts to 88 cts on the toronto stock exchange yesterday the company added that its\n",
            "application for its proposed acquisition of lt platinova resources ltd and financings are still before the listing\n",
            "committee of the stock exchange reuter 3\n",
            "\n",
            "Topic:  [0. 0. 0. 0. 1. 0. 0. 0. 0. 0. 0. 0. 0. 0. 0. 0. 0. 0. 0. 0. 0. 0. 0. 0.\n",
            " 0. 0. 0. 0. 0. 0. 0. 0. 0. 0. 0. 0. 0. 0. 0. 0. 0. 0. 0. 0. 0. 0.]\n"
          ],
          "name": "stdout"
        }
      ]
    },
    {
      "cell_type": "markdown",
      "metadata": {
        "id": "pj7y91z3JN-k",
        "colab_type": "text"
      },
      "source": [
        "##Question 1\n",
        "\n",
        "Create a model using an RNN layer (LSTM or GRU, unidirectional or bidirectional) to achieve at least 60% validation accuracy in 10 epochs or less:"
      ]
    },
    {
      "cell_type": "code",
      "metadata": {
        "id": "kWJCl86TyKBB",
        "colab_type": "code",
        "colab": {}
      },
      "source": [
        "### YOUR CODE HERE ###\n",
        "\n",
        "num_categories = 46\n",
        "\n",
        "# Reminder: We have 46 categories. What final activation do we need to use?\n",
        "\n",
        "input_layer = Input(shape=(max_sequence_len))\n",
        "\n",
        "x = Embedding(vocab_size, 256)(input_layer)\n",
        "# x = Bidirectional(LSTM(128))(x) \n",
        "x = LSTM(128)(x) \n",
        "x = Dense(128, activation='relu')(x)\n",
        "# x = Dropout(0.5)(x)\n",
        "x = Dense(64, activation='relu')(x)\n",
        "x = Dense(64, activation='relu')(x)\n",
        "x = Dense(64, activation='relu')(x)\n",
        "x = Dense(64, activation='relu')(x)\n",
        "# \n",
        "x = Dropout(0.5)(x)\n",
        "x = Dense(num_categories, activation='softmax')(x)\n",
        "\n",
        "topic_model = Model(input_layer, x)\n"
      ],
      "execution_count": 0,
      "outputs": []
    },
    {
      "cell_type": "code",
      "metadata": {
        "id": "0CRyiGEXIDkp",
        "colab_type": "code",
        "outputId": "9f5d6cc0-0599-45d7-ee35-c68a28cedb01",
        "colab": {
          "base_uri": "https://localhost:8080/",
          "height": 531
        }
      },
      "source": [
        "topic_model.summary()"
      ],
      "execution_count": 0,
      "outputs": [
        {
          "output_type": "stream",
          "text": [
            "Model: \"model\"\n",
            "_________________________________________________________________\n",
            "Layer (type)                 Output Shape              Param #   \n",
            "=================================================================\n",
            "input_1 (InputLayer)         [(None, 2376)]            0         \n",
            "_________________________________________________________________\n",
            "embedding (Embedding)        (None, 2376, 256)         7931648   \n",
            "_________________________________________________________________\n",
            "lstm (LSTM)                  (None, 128)               197120    \n",
            "_________________________________________________________________\n",
            "dense (Dense)                (None, 128)               16512     \n",
            "_________________________________________________________________\n",
            "dense_1 (Dense)              (None, 64)                8256      \n",
            "_________________________________________________________________\n",
            "dense_2 (Dense)              (None, 64)                4160      \n",
            "_________________________________________________________________\n",
            "dense_3 (Dense)              (None, 64)                4160      \n",
            "_________________________________________________________________\n",
            "dense_4 (Dense)              (None, 64)                4160      \n",
            "_________________________________________________________________\n",
            "dropout (Dropout)            (None, 64)                0         \n",
            "_________________________________________________________________\n",
            "dense_5 (Dense)              (None, 46)                2990      \n",
            "=================================================================\n",
            "Total params: 8,169,006\n",
            "Trainable params: 8,169,006\n",
            "Non-trainable params: 0\n",
            "_________________________________________________________________\n"
          ],
          "name": "stdout"
        }
      ]
    },
    {
      "cell_type": "markdown",
      "metadata": {
        "id": "-L2aeGG9KS7w",
        "colab_type": "text"
      },
      "source": [
        "Compile your model and display the summary:"
      ]
    },
    {
      "cell_type": "code",
      "metadata": {
        "id": "09k-v7zVzUXj",
        "colab_type": "code",
        "outputId": "aab8abb2-7dbe-40ce-b304-5261b8e3e01e",
        "colab": {
          "base_uri": "https://localhost:8080/",
          "height": 531
        }
      },
      "source": [
        "loss ='categorical_crossentropy'### YOUR CODE HERE ###\n",
        "\n",
        "opt = 'RMSprop' ### YOUR CODE HERE ###\n",
        "\n",
        "metrics = ['accuracy'] ### YOUR CODE HERE ###\n",
        "\n",
        "topic_model.compile(loss=loss,\n",
        "              optimizer=opt,\n",
        "              metrics=metrics)\n",
        "\n",
        "topic_model.summary()"
      ],
      "execution_count": 0,
      "outputs": [
        {
          "output_type": "stream",
          "text": [
            "Model: \"model\"\n",
            "_________________________________________________________________\n",
            "Layer (type)                 Output Shape              Param #   \n",
            "=================================================================\n",
            "input_1 (InputLayer)         [(None, 2376)]            0         \n",
            "_________________________________________________________________\n",
            "embedding (Embedding)        (None, 2376, 256)         7931648   \n",
            "_________________________________________________________________\n",
            "lstm (LSTM)                  (None, 128)               197120    \n",
            "_________________________________________________________________\n",
            "dense (Dense)                (None, 128)               16512     \n",
            "_________________________________________________________________\n",
            "dense_1 (Dense)              (None, 64)                8256      \n",
            "_________________________________________________________________\n",
            "dense_2 (Dense)              (None, 64)                4160      \n",
            "_________________________________________________________________\n",
            "dense_3 (Dense)              (None, 64)                4160      \n",
            "_________________________________________________________________\n",
            "dense_4 (Dense)              (None, 64)                4160      \n",
            "_________________________________________________________________\n",
            "dropout (Dropout)            (None, 64)                0         \n",
            "_________________________________________________________________\n",
            "dense_5 (Dense)              (None, 46)                2990      \n",
            "=================================================================\n",
            "Total params: 8,169,006\n",
            "Trainable params: 8,169,006\n",
            "Non-trainable params: 0\n",
            "_________________________________________________________________\n"
          ],
          "name": "stdout"
        }
      ]
    },
    {
      "cell_type": "markdown",
      "metadata": {
        "id": "hCNGBuU8KfI1",
        "colab_type": "text"
      },
      "source": [
        "Train your model:"
      ]
    },
    {
      "cell_type": "code",
      "metadata": {
        "id": "mthwaqCrzvM3",
        "colab_type": "code",
        "outputId": "e14a9d1f-272b-4727-caf6-7bcb278ca3cd",
        "colab": {
          "base_uri": "https://localhost:8080/",
          "height": 311
        }
      },
      "source": [
        "batchsize = 16 ### YOUR CODE HERE ###\n",
        "numEpochs = 8\n",
        "history = topic_model.fit(X_train, y_train, batch_size=batchsize, epochs=numEpochs, validation_split=0.2, shuffle=True)"
      ],
      "execution_count": 0,
      "outputs": [
        {
          "output_type": "stream",
          "text": [
            "Epoch 1/8\n",
            "450/450 [==============================] - 78s 174ms/step - loss: 2.1777 - accuracy: 0.4397 - val_loss: 1.9441 - val_accuracy: 0.4040\n",
            "Epoch 2/8\n",
            "450/450 [==============================] - 78s 174ms/step - loss: 1.7941 - accuracy: 0.5381 - val_loss: 1.6536 - val_accuracy: 0.5710\n",
            "Epoch 3/8\n",
            "450/450 [==============================] - 78s 174ms/step - loss: 1.6290 - accuracy: 0.5804 - val_loss: 1.6887 - val_accuracy: 0.5776\n",
            "Epoch 4/8\n",
            "450/450 [==============================] - 79s 174ms/step - loss: 1.5595 - accuracy: 0.5893 - val_loss: 1.6568 - val_accuracy: 0.5754\n",
            "Epoch 5/8\n",
            "450/450 [==============================] - 79s 175ms/step - loss: 1.4953 - accuracy: 0.6075 - val_loss: 1.6520 - val_accuracy: 0.5943\n",
            "Epoch 6/8\n",
            "450/450 [==============================] - 79s 175ms/step - loss: 1.4228 - accuracy: 0.6195 - val_loss: 1.5652 - val_accuracy: 0.5843\n",
            "Epoch 7/8\n",
            "450/450 [==============================] - 79s 175ms/step - loss: 1.3455 - accuracy: 0.6402 - val_loss: 1.6829 - val_accuracy: 0.6311\n",
            "Epoch 8/8\n",
            "450/450 [==============================] - 79s 176ms/step - loss: 1.2810 - accuracy: 0.6565 - val_loss: 1.4200 - val_accuracy: 0.6366\n"
          ],
          "name": "stdout"
        }
      ]
    },
    {
      "cell_type": "markdown",
      "metadata": {
        "id": "vphMsfn6Khdu",
        "colab_type": "text"
      },
      "source": [
        "Plot the training and validation losses and accuracies:"
      ]
    },
    {
      "cell_type": "code",
      "metadata": {
        "id": "7UPGWbEIzy28",
        "colab_type": "code",
        "outputId": "eff2aa49-5068-4276-96a2-160442690681",
        "colab": {
          "base_uri": "https://localhost:8080/",
          "height": 573
        }
      },
      "source": [
        "### YOUR CODE HERE ###\n",
        "\n",
        "plt.plot([x+1 for x in range(numEpochs)], history.history['loss'])\n",
        "plt.plot([x+1 for x in range(numEpochs)], history.history['val_loss'])\n",
        "plt.title('Model Loss')\n",
        "plt.ylabel('Loss')\n",
        "plt.xlabel('Epochs')\n",
        "plt.legend(['train', 'test'])\n",
        "plt.show()\n",
        "\n",
        "plt.plot([x+1 for x in range(numEpochs)], history.history['accuracy'])\n",
        "plt.plot([x+1 for x in range(numEpochs)], history.history['val_accuracy'])\n",
        "plt.title('Model Accuracy')\n",
        "plt.ylabel('Accuracy')\n",
        "plt.xlabel('Epochs')\n",
        "plt.legend(['train', 'test'])\n",
        "plt.ylim([0,1])\n",
        "plt.show()"
      ],
      "execution_count": 0,
      "outputs": [
        {
          "output_type": "display_data",
          "data": {
            "image/png": "[encoded data removed]",
            "text/plain": [
              "<Figure size 432x288 with 1 Axes>"
            ]
          },
          "metadata": {
            "tags": [],
            "needs_background": "light"
          }
        },
        {
          "output_type": "display_data",
          "data": {
            "image/png": "[encoded data removed]",
            "text/plain": [
              "<Figure size 432x288 with 1 Axes>"
            ]
          },
          "metadata": {
            "tags": [],
            "needs_background": "light"
          }
        }
      ]
    },
    {
      "cell_type": "markdown",
      "metadata": {
        "id": "80g0LaTnOMBY",
        "colab_type": "text"
      },
      "source": [
        "##Question 2\n",
        "\n"
      ]
    },
    {
      "cell_type": "markdown",
      "metadata": {
        "id": "HZ3u2b1CN4zN",
        "colab_type": "text"
      },
      "source": [
        "We've seen both LSTM and GRU cells as building blocks for RNNs.\n",
        "\n",
        "Here is a reminder of each of their corresponding architectures:\n",
        "\n",
        "![Pic](https://drive.google.com/uc?id=1INZQkDev_8rdFxOT9hfAiPWJRT6-N82S)\n",
        "\n",
        "i) What are the major differences between each?\n",
        "\n",
        "LSTM (Long Short Term Memory): LSTM has three gates (input, output and forget gate), the input decides \n",
        "\n",
        "GRU (Gated Recurring Units): GRU has two gates (reset and update gate).\n",
        "\n",
        "ii) What are the major advantages of each?\n",
        "\n",
        "GRU use less training parameters and therefore use less memory, as a result GRU executes faster and trains faster than LSTM. \n",
        "\n",
        "LSTM learns more parameters and can generate more complex models. Additionally it is more accurate on datasets using longer sequences. \n",
        "\n",
        "iii) What are the major disadvantages of each?\n",
        "\n",
        "LSTM suffers where GRU excels, and vice versa. LSTM uses more parameters and can give it an edge when it comes to learning features of longer sequences, but it suffers from larger memory usage and training time.\n",
        "\n",
        "GRU is a simpler model, bypassing the need for a memory unit entirely with its forget gate. Its simplicity however theoretically makes it less likely to remember longer sequences. \n"
      ]
    },
    {
      "cell_type": "markdown",
      "metadata": {
        "id": "Xb6boYiUKUlu",
        "colab_type": "text"
      },
      "source": [
        ""
      ]
    }
  ]
}